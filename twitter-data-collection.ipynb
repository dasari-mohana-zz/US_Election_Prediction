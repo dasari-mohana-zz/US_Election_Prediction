{
 "cells": [
  {
   "cell_type": "markdown",
   "metadata": {},
   "source": [
    "# Twitter Data collection\n",
    "\n",
    "# Dasari Mohan Krishna"
   ]
  },
  {
   "cell_type": "code",
   "execution_count": 8,
   "metadata": {},
   "outputs": [],
   "source": [
    "# Importing the required libraries\n",
    "import csv\n",
    "import tweepy\n",
    "import pandas as pd"
   ]
  },
  {
   "cell_type": "code",
   "execution_count": 9,
   "metadata": {},
   "outputs": [],
   "source": [
    "#Twitter Keys and Access Tokens\n",
    "\n",
    "api_key = \" \"\n",
    "\n",
    "api_key_secret = \" \"\n",
    "\n",
    "access_token = \" \"\n",
    "\n",
    "access_token_secret = \" \""
   ]
  },
  {
   "cell_type": "code",
   "execution_count": 10,
   "metadata": {},
   "outputs": [],
   "source": [
    "#Authenticating the twitter API\n",
    "\n",
    "auth = tweepy.OAuthHandler(api_key,api_key_secret)\n",
    "auth.set_access_token(access_token,access_token_secret)\n",
    "api = tweepy.API(auth)\n",
    "api = tweepy.API(auth,wait_on_rate_limit=True)\n"
   ]
  },
  {
   "cell_type": "code",
   "execution_count": 11,
   "metadata": {},
   "outputs": [],
   "source": [
    "#Testing the API connection \n",
    "\n",
    "#user = api.me()\n",
    "\n",
    "#user.name"
   ]
  },
  {
   "cell_type": "code",
   "execution_count": null,
   "metadata": {},
   "outputs": [],
   "source": [
    "candidate_name = ['realDonaldTrump','JoeBiden']\n",
    "\n",
    "replies_trump = []\n",
    "replies_biden = []\n",
    "\n",
    "\n",
    "for candidate in candidate_name:\n",
    "    for tweet in tweepy.Cursor(api.search,q='to:'+candidate, result_type='recent',timeout=999999).items(5000):\n",
    "        if candidate == \"realDonaldTrump\":\n",
    "            replies_trump.append(tweet)\n",
    "            \n",
    "        elif candidate == \"JoeBiden\":\n",
    "            replies_biden.append(tweet)"
   ]
  },
  {
   "cell_type": "code",
   "execution_count": 6,
   "metadata": {},
   "outputs": [],
   "source": [
    "#converting the files into dataframe and to csv\n",
    "\n",
    "biden_df = pd.DataFrame()\n",
    "trump_df = pd.DataFrame()\n",
    "\n",
    "df_names = ['biden_df','trump_df']\n",
    "\n",
    "for tweet in replies_trump:\n",
    "    row = {'user': tweet.user.screen_name, 'text': tweet.text.replace('\\n', ' ')}\n",
    "    trump_df = trump_df.append(row, ignore_index=True)\n",
    "    trump_df.to_csv(r'trump_data5000.csv')\n",
    "    \n",
    "for tweet in replies_biden:\n",
    "    row = {'user': tweet.user.screen_name, 'text': tweet.text.replace('\\n', ' ')}\n",
    "    biden_df = biden_df.append(row, ignore_index=True)\n",
    "    biden_df.to_csv(r'biden_data5000.csv')\n"
   ]
  },
  {
   "cell_type": "code",
   "execution_count": null,
   "metadata": {},
   "outputs": [],
   "source": [
    "#printing out the shape and the dataset \n",
    "print(trump_df.shape)\n",
    "trump_df.head()"
   ]
  },
  {
   "cell_type": "code",
   "execution_count": null,
   "metadata": {},
   "outputs": [],
   "source": [
    "print(biden_df.shape)\n",
    "biden_df.head()"
   ]
  }
 ],
 "metadata": {
  "kernelspec": {
   "display_name": "Python 3",
   "language": "python",
   "name": "python3"
  },
  "language_info": {
   "codemirror_mode": {
    "name": "ipython",
    "version": 3
   },
   "file_extension": ".py",
   "mimetype": "text/x-python",
   "name": "python",
   "nbconvert_exporter": "python",
   "pygments_lexer": "ipython3",
   "version": "3.7.4"
  }
 },
 "nbformat": 4,
 "nbformat_minor": 4
}
